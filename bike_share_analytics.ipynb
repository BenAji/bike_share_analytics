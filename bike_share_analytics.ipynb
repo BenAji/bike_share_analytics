{
 "cells": [
  {
   "cell_type": "markdown",
   "id": "48406574",
   "metadata": {},
   "source": [
    "### Load modules"
   ]
  },
  {
   "cell_type": "code",
   "execution_count": 1,
   "id": "b26ee1e1",
   "metadata": {},
   "outputs": [],
   "source": [
    "import os\n",
    "import pandas as pd\n",
    "import numpy as np\n",
    "\n",
    "\n",
    "import matplotlib.pyplot as plt\n",
    "import seaborn as sns"
   ]
  },
  {
   "cell_type": "markdown",
   "id": "e9ad5434",
   "metadata": {},
   "source": [
    "#### Read the csv into a dataframe"
   ]
  },
  {
   "cell_type": "code",
   "execution_count": 2,
   "id": "28d0e09a",
   "metadata": {},
   "outputs": [],
   "source": [
    "# read in the data to a pandas dataframe\n",
    "q2 = pd.read_csv ('Q2\\\\q2.csv')\n",
    "q3 = pd.read_csv ('Q3\\\\q3.csv')\n",
    "q4 = pd.read_csv ('Q4\\\\q4.csv')\n"
   ]
  },
  {
   "cell_type": "markdown",
   "id": "ce63b978",
   "metadata": {},
   "source": [
    "### Create functions"
   ]
  },
  {
   "cell_type": "markdown",
   "id": "d2c99956",
   "metadata": {},
   "source": [
    "#### Creat a function to identify NaNs and unique values"
   ]
  },
  {
   "cell_type": "code",
   "execution_count": 3,
   "id": "ed481c7d",
   "metadata": {},
   "outputs": [],
   "source": [
    "\n",
    "\n",
    "\n",
    "def unique_val(df):\n",
    "    '''Get the unique values of each column'''\n",
    "\n",
    "    uniq_values = []\n",
    "    values = []\n",
    "    feature = []\n",
    "    is_NaN = []  # Initialize a list to store whether NaN values are present\n",
    "    \n",
    "    index_value_tuples = list(df.nunique().items())\n",
    "    for index, value in index_value_tuples:\n",
    "        feature.append(index)\n",
    "        uniq_values.append(value)\n",
    "        \n",
    "        # Replace \"nan\" with actual NaN values in the unique values list\n",
    "        unique_vals = df[index].unique()\n",
    "        unique_vals = [np.nan if val == 'nan' else val for val in unique_vals]\n",
    "        values.append(unique_vals)\n",
    "        \n",
    "        # Check if there are NaN values in unique_vals\n",
    "        if any(pd.isna(unique_vals)):\n",
    "            is_NaN.append('Yes')\n",
    "        else:\n",
    "            is_NaN.append('No')\n",
    "        \n",
    "    # Create a DataFrame to store the feature types\n",
    "    df_out = pd.DataFrame({'Feature': feature,\n",
    "                           'Unique_values': uniq_values,\n",
    "                           'is_NaN': is_NaN,\n",
    "                           'Values': values})\n",
    "    return df_out\n"
   ]
  },
  {
   "cell_type": "code",
   "execution_count": 4,
   "id": "f7a91ebb",
   "metadata": {
    "scrolled": false
   },
   "outputs": [
    {
     "data": {
      "text/html": [
       "<div>\n",
       "<style scoped>\n",
       "    .dataframe tbody tr th:only-of-type {\n",
       "        vertical-align: middle;\n",
       "    }\n",
       "\n",
       "    .dataframe tbody tr th {\n",
       "        vertical-align: top;\n",
       "    }\n",
       "\n",
       "    .dataframe thead th {\n",
       "        text-align: right;\n",
       "    }\n",
       "</style>\n",
       "<table border=\"1\" class=\"dataframe\">\n",
       "  <thead>\n",
       "    <tr style=\"text-align: right;\">\n",
       "      <th></th>\n",
       "      <th>Feature</th>\n",
       "      <th>Unique_values</th>\n",
       "      <th>is_NaN</th>\n",
       "      <th>Values</th>\n",
       "    </tr>\n",
       "  </thead>\n",
       "  <tbody>\n",
       "    <tr>\n",
       "      <th>0</th>\n",
       "      <td>01 - Rental Details Rental ID</td>\n",
       "      <td>1108163</td>\n",
       "      <td>No</td>\n",
       "      <td>[22178529, 22178530, 22178531, 22178532, 22178...</td>\n",
       "    </tr>\n",
       "    <tr>\n",
       "      <th>1</th>\n",
       "      <td>01 - Rental Details Local Start Time</td>\n",
       "      <td>957330</td>\n",
       "      <td>No</td>\n",
       "      <td>[2019-04-01 00:02:22, 2019-04-01 00:03:02, 201...</td>\n",
       "    </tr>\n",
       "    <tr>\n",
       "      <th>2</th>\n",
       "      <td>01 - Rental Details Local End Time</td>\n",
       "      <td>922638</td>\n",
       "      <td>No</td>\n",
       "      <td>[2019-04-01 00:09:48, 2019-04-01 00:20:30, 201...</td>\n",
       "    </tr>\n",
       "    <tr>\n",
       "      <th>3</th>\n",
       "      <td>01 - Rental Details Bike ID</td>\n",
       "      <td>5764</td>\n",
       "      <td>No</td>\n",
       "      <td>[6251, 6226, 5649, 4151, 3270, 3123, 6418, 451...</td>\n",
       "    </tr>\n",
       "    <tr>\n",
       "      <th>4</th>\n",
       "      <td>01 - Rental Details Duration In Seconds Uncapped</td>\n",
       "      <td>13769</td>\n",
       "      <td>No</td>\n",
       "      <td>[446.0, 1,048.0, 252.0, 357.0, 1,007.0, 257.0,...</td>\n",
       "    </tr>\n",
       "    <tr>\n",
       "      <th>5</th>\n",
       "      <td>03 - Rental Start Station ID</td>\n",
       "      <td>610</td>\n",
       "      <td>No</td>\n",
       "      <td>[81, 317, 283, 26, 202, 420, 503, 260, 211, 30...</td>\n",
       "    </tr>\n",
       "    <tr>\n",
       "      <th>6</th>\n",
       "      <td>03 - Rental Start Station Name</td>\n",
       "      <td>610</td>\n",
       "      <td>No</td>\n",
       "      <td>[Daley Center Plaza, Wood St &amp; Taylor St, LaSa...</td>\n",
       "    </tr>\n",
       "    <tr>\n",
       "      <th>7</th>\n",
       "      <td>02 - Rental End Station ID</td>\n",
       "      <td>612</td>\n",
       "      <td>No</td>\n",
       "      <td>[56, 59, 174, 133, 129, 426, 500, 499, 211, 23...</td>\n",
       "    </tr>\n",
       "    <tr>\n",
       "      <th>8</th>\n",
       "      <td>02 - Rental End Station Name</td>\n",
       "      <td>612</td>\n",
       "      <td>No</td>\n",
       "      <td>[Desplaines St &amp; Kinzie St, Wabash Ave &amp; Roose...</td>\n",
       "    </tr>\n",
       "    <tr>\n",
       "      <th>9</th>\n",
       "      <td>User Type</td>\n",
       "      <td>2</td>\n",
       "      <td>No</td>\n",
       "      <td>[Subscriber, Customer]</td>\n",
       "    </tr>\n",
       "    <tr>\n",
       "      <th>10</th>\n",
       "      <td>Member Gender</td>\n",
       "      <td>2</td>\n",
       "      <td>Yes</td>\n",
       "      <td>[Male, Female, nan]</td>\n",
       "    </tr>\n",
       "    <tr>\n",
       "      <th>11</th>\n",
       "      <td>05 - Member Details Member Birthday Year</td>\n",
       "      <td>84</td>\n",
       "      <td>Yes</td>\n",
       "      <td>[1975.0, 1984.0, 1990.0, 1993.0, 1992.0, 1999....</td>\n",
       "    </tr>\n",
       "  </tbody>\n",
       "</table>\n",
       "</div>"
      ],
      "text/plain": [
       "                                             Feature  Unique_values is_NaN  \\\n",
       "0                      01 - Rental Details Rental ID        1108163     No   \n",
       "1               01 - Rental Details Local Start Time         957330     No   \n",
       "2                 01 - Rental Details Local End Time         922638     No   \n",
       "3                        01 - Rental Details Bike ID           5764     No   \n",
       "4   01 - Rental Details Duration In Seconds Uncapped          13769     No   \n",
       "5                       03 - Rental Start Station ID            610     No   \n",
       "6                     03 - Rental Start Station Name            610     No   \n",
       "7                         02 - Rental End Station ID            612     No   \n",
       "8                       02 - Rental End Station Name            612     No   \n",
       "9                                          User Type              2     No   \n",
       "10                                     Member Gender              2    Yes   \n",
       "11          05 - Member Details Member Birthday Year             84    Yes   \n",
       "\n",
       "                                               Values  \n",
       "0   [22178529, 22178530, 22178531, 22178532, 22178...  \n",
       "1   [2019-04-01 00:02:22, 2019-04-01 00:03:02, 201...  \n",
       "2   [2019-04-01 00:09:48, 2019-04-01 00:20:30, 201...  \n",
       "3   [6251, 6226, 5649, 4151, 3270, 3123, 6418, 451...  \n",
       "4   [446.0, 1,048.0, 252.0, 357.0, 1,007.0, 257.0,...  \n",
       "5   [81, 317, 283, 26, 202, 420, 503, 260, 211, 30...  \n",
       "6   [Daley Center Plaza, Wood St & Taylor St, LaSa...  \n",
       "7   [56, 59, 174, 133, 129, 426, 500, 499, 211, 23...  \n",
       "8   [Desplaines St & Kinzie St, Wabash Ave & Roose...  \n",
       "9                              [Subscriber, Customer]  \n",
       "10                                [Male, Female, nan]  \n",
       "11  [1975.0, 1984.0, 1990.0, 1993.0, 1992.0, 1999....  "
      ]
     },
     "execution_count": 4,
     "metadata": {},
     "output_type": "execute_result"
    }
   ],
   "source": [
    "unique_val(q2)"
   ]
  },
  {
   "cell_type": "code",
   "execution_count": 5,
   "id": "f85c4f05",
   "metadata": {
    "scrolled": false
   },
   "outputs": [
    {
     "data": {
      "text/html": [
       "<div>\n",
       "<style scoped>\n",
       "    .dataframe tbody tr th:only-of-type {\n",
       "        vertical-align: middle;\n",
       "    }\n",
       "\n",
       "    .dataframe tbody tr th {\n",
       "        vertical-align: top;\n",
       "    }\n",
       "\n",
       "    .dataframe thead th {\n",
       "        text-align: right;\n",
       "    }\n",
       "</style>\n",
       "<table border=\"1\" class=\"dataframe\">\n",
       "  <thead>\n",
       "    <tr style=\"text-align: right;\">\n",
       "      <th></th>\n",
       "      <th>Feature</th>\n",
       "      <th>Unique_values</th>\n",
       "      <th>is_NaN</th>\n",
       "      <th>Values</th>\n",
       "    </tr>\n",
       "  </thead>\n",
       "  <tbody>\n",
       "    <tr>\n",
       "      <th>0</th>\n",
       "      <td>trip_id</td>\n",
       "      <td>1640718</td>\n",
       "      <td>No</td>\n",
       "      <td>[23479388, 23479389, 23479390, 23479391, 23479...</td>\n",
       "    </tr>\n",
       "    <tr>\n",
       "      <th>1</th>\n",
       "      <td>start_time</td>\n",
       "      <td>1372358</td>\n",
       "      <td>No</td>\n",
       "      <td>[2019-07-01 00:00:27, 2019-07-01 00:01:16, 201...</td>\n",
       "    </tr>\n",
       "    <tr>\n",
       "      <th>2</th>\n",
       "      <td>end_time</td>\n",
       "      <td>1344539</td>\n",
       "      <td>No</td>\n",
       "      <td>[2019-07-01 00:20:41, 2019-07-01 00:18:44, 201...</td>\n",
       "    </tr>\n",
       "    <tr>\n",
       "      <th>3</th>\n",
       "      <td>bikeid</td>\n",
       "      <td>5787</td>\n",
       "      <td>No</td>\n",
       "      <td>[3591, 5353, 6180, 5540, 6014, 4941, 3770, 544...</td>\n",
       "    </tr>\n",
       "    <tr>\n",
       "      <th>4</th>\n",
       "      <td>tripduration</td>\n",
       "      <td>16676</td>\n",
       "      <td>No</td>\n",
       "      <td>[1,214.0, 1,048.0, 1,554.0, 1,503.0, 1,213.0, ...</td>\n",
       "    </tr>\n",
       "    <tr>\n",
       "      <th>5</th>\n",
       "      <td>from_station_id</td>\n",
       "      <td>612</td>\n",
       "      <td>No</td>\n",
       "      <td>[117, 381, 313, 168, 300, 43, 511, 24, 624, 23...</td>\n",
       "    </tr>\n",
       "    <tr>\n",
       "      <th>6</th>\n",
       "      <td>from_station_name</td>\n",
       "      <td>612</td>\n",
       "      <td>No</td>\n",
       "      <td>[Wilton Ave &amp; Belmont Ave, Western Ave &amp; Monro...</td>\n",
       "    </tr>\n",
       "    <tr>\n",
       "      <th>7</th>\n",
       "      <td>to_station_id</td>\n",
       "      <td>613</td>\n",
       "      <td>No</td>\n",
       "      <td>[497, 203, 144, 62, 232, 195, 84, 24, 43, 237,...</td>\n",
       "    </tr>\n",
       "    <tr>\n",
       "      <th>8</th>\n",
       "      <td>to_station_name</td>\n",
       "      <td>613</td>\n",
       "      <td>No</td>\n",
       "      <td>[Kimball Ave &amp; Belmont Ave, Western Ave &amp; 21st...</td>\n",
       "    </tr>\n",
       "    <tr>\n",
       "      <th>9</th>\n",
       "      <td>usertype</td>\n",
       "      <td>2</td>\n",
       "      <td>No</td>\n",
       "      <td>[Subscriber, Customer]</td>\n",
       "    </tr>\n",
       "    <tr>\n",
       "      <th>10</th>\n",
       "      <td>gender</td>\n",
       "      <td>2</td>\n",
       "      <td>Yes</td>\n",
       "      <td>[Male, nan, Female]</td>\n",
       "    </tr>\n",
       "    <tr>\n",
       "      <th>11</th>\n",
       "      <td>birthyear</td>\n",
       "      <td>86</td>\n",
       "      <td>Yes</td>\n",
       "      <td>[1992.0, nan, 1990.0, 1995.0, 1970.0, 1993.0, ...</td>\n",
       "    </tr>\n",
       "  </tbody>\n",
       "</table>\n",
       "</div>"
      ],
      "text/plain": [
       "              Feature  Unique_values is_NaN  \\\n",
       "0             trip_id        1640718     No   \n",
       "1          start_time        1372358     No   \n",
       "2            end_time        1344539     No   \n",
       "3              bikeid           5787     No   \n",
       "4        tripduration          16676     No   \n",
       "5     from_station_id            612     No   \n",
       "6   from_station_name            612     No   \n",
       "7       to_station_id            613     No   \n",
       "8     to_station_name            613     No   \n",
       "9            usertype              2     No   \n",
       "10             gender              2    Yes   \n",
       "11          birthyear             86    Yes   \n",
       "\n",
       "                                               Values  \n",
       "0   [23479388, 23479389, 23479390, 23479391, 23479...  \n",
       "1   [2019-07-01 00:00:27, 2019-07-01 00:01:16, 201...  \n",
       "2   [2019-07-01 00:20:41, 2019-07-01 00:18:44, 201...  \n",
       "3   [3591, 5353, 6180, 5540, 6014, 4941, 3770, 544...  \n",
       "4   [1,214.0, 1,048.0, 1,554.0, 1,503.0, 1,213.0, ...  \n",
       "5   [117, 381, 313, 168, 300, 43, 511, 24, 624, 23...  \n",
       "6   [Wilton Ave & Belmont Ave, Western Ave & Monro...  \n",
       "7   [497, 203, 144, 62, 232, 195, 84, 24, 43, 237,...  \n",
       "8   [Kimball Ave & Belmont Ave, Western Ave & 21st...  \n",
       "9                              [Subscriber, Customer]  \n",
       "10                                [Male, nan, Female]  \n",
       "11  [1992.0, nan, 1990.0, 1995.0, 1970.0, 1993.0, ...  "
      ]
     },
     "execution_count": 5,
     "metadata": {},
     "output_type": "execute_result"
    }
   ],
   "source": [
    "unique_val(q3)"
   ]
  },
  {
   "cell_type": "code",
   "execution_count": 6,
   "id": "19f83b70",
   "metadata": {
    "scrolled": false
   },
   "outputs": [
    {
     "data": {
      "text/html": [
       "<div>\n",
       "<style scoped>\n",
       "    .dataframe tbody tr th:only-of-type {\n",
       "        vertical-align: middle;\n",
       "    }\n",
       "\n",
       "    .dataframe tbody tr th {\n",
       "        vertical-align: top;\n",
       "    }\n",
       "\n",
       "    .dataframe thead th {\n",
       "        text-align: right;\n",
       "    }\n",
       "</style>\n",
       "<table border=\"1\" class=\"dataframe\">\n",
       "  <thead>\n",
       "    <tr style=\"text-align: right;\">\n",
       "      <th></th>\n",
       "      <th>Feature</th>\n",
       "      <th>Unique_values</th>\n",
       "      <th>is_NaN</th>\n",
       "      <th>Values</th>\n",
       "    </tr>\n",
       "  </thead>\n",
       "  <tbody>\n",
       "    <tr>\n",
       "      <th>0</th>\n",
       "      <td>trip_id</td>\n",
       "      <td>704054</td>\n",
       "      <td>No</td>\n",
       "      <td>[25223640, 25223641, 25223642, 25223643, 25223...</td>\n",
       "    </tr>\n",
       "    <tr>\n",
       "      <th>1</th>\n",
       "      <td>start_time</td>\n",
       "      <td>633380</td>\n",
       "      <td>No</td>\n",
       "      <td>[2019-10-01 00:01:39, 2019-10-01 00:02:16, 201...</td>\n",
       "    </tr>\n",
       "    <tr>\n",
       "      <th>2</th>\n",
       "      <td>end_time</td>\n",
       "      <td>632834</td>\n",
       "      <td>No</td>\n",
       "      <td>[2019-10-01 00:17:20, 2019-10-01 00:06:34, 201...</td>\n",
       "    </tr>\n",
       "    <tr>\n",
       "      <th>3</th>\n",
       "      <td>bikeid</td>\n",
       "      <td>5670</td>\n",
       "      <td>No</td>\n",
       "      <td>[2215, 6328, 3003, 3275, 5294, 1891, 1061, 127...</td>\n",
       "    </tr>\n",
       "    <tr>\n",
       "      <th>4</th>\n",
       "      <td>tripduration</td>\n",
       "      <td>10401</td>\n",
       "      <td>No</td>\n",
       "      <td>[940.0, 258.0, 850.0, 2,350.0, 1,867.0, 373.0,...</td>\n",
       "    </tr>\n",
       "    <tr>\n",
       "      <th>5</th>\n",
       "      <td>from_station_id</td>\n",
       "      <td>610</td>\n",
       "      <td>No</td>\n",
       "      <td>[20, 19, 84, 313, 210, 156, 336, 77, 198, 66, ...</td>\n",
       "    </tr>\n",
       "    <tr>\n",
       "      <th>6</th>\n",
       "      <td>from_station_name</td>\n",
       "      <td>610</td>\n",
       "      <td>No</td>\n",
       "      <td>[Sheffield Ave &amp; Kingsbury St, Throop (Loomis)...</td>\n",
       "    </tr>\n",
       "    <tr>\n",
       "      <th>7</th>\n",
       "      <td>to_station_id</td>\n",
       "      <td>608</td>\n",
       "      <td>No</td>\n",
       "      <td>[309, 241, 199, 290, 382, 226, 142, 463, 336, ...</td>\n",
       "    </tr>\n",
       "    <tr>\n",
       "      <th>8</th>\n",
       "      <td>to_station_name</td>\n",
       "      <td>608</td>\n",
       "      <td>No</td>\n",
       "      <td>[Leavitt St &amp; Armitage Ave, Morgan St &amp; Polk S...</td>\n",
       "    </tr>\n",
       "    <tr>\n",
       "      <th>9</th>\n",
       "      <td>usertype</td>\n",
       "      <td>2</td>\n",
       "      <td>No</td>\n",
       "      <td>[Subscriber, Customer]</td>\n",
       "    </tr>\n",
       "    <tr>\n",
       "      <th>10</th>\n",
       "      <td>gender</td>\n",
       "      <td>2</td>\n",
       "      <td>Yes</td>\n",
       "      <td>[Male, Female, nan]</td>\n",
       "    </tr>\n",
       "    <tr>\n",
       "      <th>11</th>\n",
       "      <td>birthyear</td>\n",
       "      <td>77</td>\n",
       "      <td>Yes</td>\n",
       "      <td>[1987.0, 1998.0, 1991.0, 1990.0, 1994.0, 1995....</td>\n",
       "    </tr>\n",
       "  </tbody>\n",
       "</table>\n",
       "</div>"
      ],
      "text/plain": [
       "              Feature  Unique_values is_NaN  \\\n",
       "0             trip_id         704054     No   \n",
       "1          start_time         633380     No   \n",
       "2            end_time         632834     No   \n",
       "3              bikeid           5670     No   \n",
       "4        tripduration          10401     No   \n",
       "5     from_station_id            610     No   \n",
       "6   from_station_name            610     No   \n",
       "7       to_station_id            608     No   \n",
       "8     to_station_name            608     No   \n",
       "9            usertype              2     No   \n",
       "10             gender              2    Yes   \n",
       "11          birthyear             77    Yes   \n",
       "\n",
       "                                               Values  \n",
       "0   [25223640, 25223641, 25223642, 25223643, 25223...  \n",
       "1   [2019-10-01 00:01:39, 2019-10-01 00:02:16, 201...  \n",
       "2   [2019-10-01 00:17:20, 2019-10-01 00:06:34, 201...  \n",
       "3   [2215, 6328, 3003, 3275, 5294, 1891, 1061, 127...  \n",
       "4   [940.0, 258.0, 850.0, 2,350.0, 1,867.0, 373.0,...  \n",
       "5   [20, 19, 84, 313, 210, 156, 336, 77, 198, 66, ...  \n",
       "6   [Sheffield Ave & Kingsbury St, Throop (Loomis)...  \n",
       "7   [309, 241, 199, 290, 382, 226, 142, 463, 336, ...  \n",
       "8   [Leavitt St & Armitage Ave, Morgan St & Polk S...  \n",
       "9                              [Subscriber, Customer]  \n",
       "10                                [Male, Female, nan]  \n",
       "11  [1987.0, 1998.0, 1991.0, 1990.0, 1994.0, 1995....  "
      ]
     },
     "execution_count": 6,
     "metadata": {},
     "output_type": "execute_result"
    }
   ],
   "source": [
    "unique_val(q4)"
   ]
  },
  {
   "cell_type": "markdown",
   "id": "97d798fc",
   "metadata": {},
   "source": [
    "#### Make the headers Uniform and load the data as a single frame"
   ]
  },
  {
   "cell_type": "code",
   "execution_count": 7,
   "id": "18382011",
   "metadata": {},
   "outputs": [],
   "source": [
    "#use the header of q3 for q2\n",
    "for i in range(len(q2.columns)):\n",
    "    q2 = q2.rename(columns={q2.columns[i]: q3.columns[i]})\n",
    "    q4 = q4.rename(columns={q4.columns[i]: q3.columns[i]})\n",
    "    "
   ]
  },
  {
   "cell_type": "code",
   "execution_count": 8,
   "id": "25c8aa19",
   "metadata": {},
   "outputs": [],
   "source": [
    "# concatenate the files vertically\n",
    "files = [q2,q3,q4]\n",
    "df = pd.concat(files, ignore_index=True)"
   ]
  },
  {
   "cell_type": "markdown",
   "id": "a1934230",
   "metadata": {},
   "source": [
    "#### Confirm we do not have columns name in the row"
   ]
  },
  {
   "cell_type": "code",
   "execution_count": 9,
   "id": "028ada7b",
   "metadata": {},
   "outputs": [
    {
     "data": {
      "text/html": [
       "<div>\n",
       "<style scoped>\n",
       "    .dataframe tbody tr th:only-of-type {\n",
       "        vertical-align: middle;\n",
       "    }\n",
       "\n",
       "    .dataframe tbody tr th {\n",
       "        vertical-align: top;\n",
       "    }\n",
       "\n",
       "    .dataframe thead th {\n",
       "        text-align: right;\n",
       "    }\n",
       "</style>\n",
       "<table border=\"1\" class=\"dataframe\">\n",
       "  <thead>\n",
       "    <tr style=\"text-align: right;\">\n",
       "      <th></th>\n",
       "      <th>trip_id</th>\n",
       "      <th>start_time</th>\n",
       "      <th>end_time</th>\n",
       "      <th>bikeid</th>\n",
       "      <th>tripduration</th>\n",
       "      <th>from_station_id</th>\n",
       "      <th>from_station_name</th>\n",
       "      <th>to_station_id</th>\n",
       "      <th>to_station_name</th>\n",
       "      <th>usertype</th>\n",
       "      <th>gender</th>\n",
       "      <th>birthyear</th>\n",
       "    </tr>\n",
       "  </thead>\n",
       "  <tbody>\n",
       "  </tbody>\n",
       "</table>\n",
       "</div>"
      ],
      "text/plain": [
       "Empty DataFrame\n",
       "Columns: [trip_id, start_time, end_time, bikeid, tripduration, from_station_id, from_station_name, to_station_id, to_station_name, usertype, gender, birthyear]\n",
       "Index: []"
      ]
     },
     "execution_count": 9,
     "metadata": {},
     "output_type": "execute_result"
    }
   ],
   "source": [
    "#check if the header apperars in the dataframe values\n",
    "df[df['start_time']== 'start_time']"
   ]
  },
  {
   "cell_type": "markdown",
   "id": "05697504",
   "metadata": {},
   "source": [
    "### Check Data Types and Create a function to check data type"
   ]
  },
  {
   "cell_type": "code",
   "execution_count": 10,
   "id": "1fa6fd25",
   "metadata": {},
   "outputs": [
    {
     "data": {
      "text/plain": [
       "trip_id                int64\n",
       "start_time            object\n",
       "end_time              object\n",
       "bikeid                 int64\n",
       "tripduration          object\n",
       "from_station_id        int64\n",
       "from_station_name     object\n",
       "to_station_id          int64\n",
       "to_station_name       object\n",
       "usertype              object\n",
       "gender                object\n",
       "birthyear            float64\n",
       "dtype: object"
      ]
     },
     "execution_count": 10,
     "metadata": {},
     "output_type": "execute_result"
    }
   ],
   "source": [
    "df.dtypes"
   ]
  },
  {
   "cell_type": "code",
   "execution_count": 11,
   "id": "aecee35f",
   "metadata": {},
   "outputs": [],
   "source": [
    "from pandas.api.types import is_numeric_dtype\n",
    "\n",
    "def featureType(df):\n",
    "    # Get the column names and the number of rows in the DataFrame\n",
    "    columns = df.columns\n",
    "    rows = len(df)\n",
    "    \n",
    "    # Initialize empty lists to store the base feature types and analysis feature types\n",
    "    colTypeBase = []\n",
    "    colType = []\n",
    "    \n",
    "    # Iterate over each column in the DataFrame\n",
    "    for col in columns:\n",
    "        try:\n",
    "            uniq = df[col].nunique()\n",
    "            \n",
    "            # Check if the number of rows is greater than 10\n",
    "            if rows > 10:\n",
    "                if is_numeric_dtype(df[col]):\n",
    "                    # Numeric columns\n",
    "                    if uniq == 1:\n",
    "                        colType.append('Unary')\n",
    "                        colTypeBase.append('Unary')\n",
    "                    elif uniq == 2:\n",
    "                        colType.append('Binary')\n",
    "                        colTypeBase.append('Binary')\n",
    "                    elif rows / uniq > 3 and uniq > 5:\n",
    "                        colType.append('Continuous')\n",
    "                        colTypeBase.append('Continuous')\n",
    "                    else:\n",
    "                        colType.append('Continuous-Ordinal')\n",
    "                        colTypeBase.append('Ordinal')\n",
    "                else:\n",
    "                    # Categorical columns\n",
    "                    if uniq == 1:\n",
    "                        colType.append('Unary')\n",
    "                        colTypeBase.append('Category-Unary')\n",
    "                    elif uniq == 2:\n",
    "                        colType.append('Binary')\n",
    "                        colTypeBase.append('Category-Binary')\n",
    "                    else:\n",
    "                        colType.append('Categorical-Nominal')\n",
    "                        colTypeBase.append('Nominal')\n",
    "            else:\n",
    "                # For small datasets, simply classify columns as numeric or non-numeric\n",
    "                if is_numeric_dtype(df[col]):\n",
    "                    colType.append('Numeric')\n",
    "                    colTypeBase.append('Numeric')\n",
    "                else:\n",
    "                    colType.append('Non-numeric')\n",
    "                    colTypeBase.append('Non-numeric')\n",
    "        except:\n",
    "            colType.append('Issue')\n",
    "    \n",
    "    # Create a DataFrame to store the feature types\n",
    "    df_out = pd.DataFrame({'Feature': columns,\n",
    "                           'BaseFeatureType': colTypeBase,\n",
    "                           'AnalysisFeatureType': colType})\n",
    "    return df_out\n"
   ]
  },
  {
   "cell_type": "markdown",
   "id": "77adc25d",
   "metadata": {},
   "source": [
    "#### Check for the data types"
   ]
  },
  {
   "cell_type": "code",
   "execution_count": 12,
   "id": "97116c35",
   "metadata": {},
   "outputs": [
    {
     "data": {
      "text/html": [
       "<div>\n",
       "<style scoped>\n",
       "    .dataframe tbody tr th:only-of-type {\n",
       "        vertical-align: middle;\n",
       "    }\n",
       "\n",
       "    .dataframe tbody tr th {\n",
       "        vertical-align: top;\n",
       "    }\n",
       "\n",
       "    .dataframe thead th {\n",
       "        text-align: right;\n",
       "    }\n",
       "</style>\n",
       "<table border=\"1\" class=\"dataframe\">\n",
       "  <thead>\n",
       "    <tr style=\"text-align: right;\">\n",
       "      <th></th>\n",
       "      <th>Feature</th>\n",
       "      <th>BaseFeatureType</th>\n",
       "      <th>AnalysisFeatureType</th>\n",
       "    </tr>\n",
       "  </thead>\n",
       "  <tbody>\n",
       "    <tr>\n",
       "      <th>0</th>\n",
       "      <td>trip_id</td>\n",
       "      <td>Ordinal</td>\n",
       "      <td>Continuous-Ordinal</td>\n",
       "    </tr>\n",
       "    <tr>\n",
       "      <th>1</th>\n",
       "      <td>start_time</td>\n",
       "      <td>Nominal</td>\n",
       "      <td>Categorical-Nominal</td>\n",
       "    </tr>\n",
       "    <tr>\n",
       "      <th>2</th>\n",
       "      <td>end_time</td>\n",
       "      <td>Nominal</td>\n",
       "      <td>Categorical-Nominal</td>\n",
       "    </tr>\n",
       "    <tr>\n",
       "      <th>3</th>\n",
       "      <td>bikeid</td>\n",
       "      <td>Continuous</td>\n",
       "      <td>Continuous</td>\n",
       "    </tr>\n",
       "    <tr>\n",
       "      <th>4</th>\n",
       "      <td>tripduration</td>\n",
       "      <td>Nominal</td>\n",
       "      <td>Categorical-Nominal</td>\n",
       "    </tr>\n",
       "    <tr>\n",
       "      <th>5</th>\n",
       "      <td>from_station_id</td>\n",
       "      <td>Continuous</td>\n",
       "      <td>Continuous</td>\n",
       "    </tr>\n",
       "    <tr>\n",
       "      <th>6</th>\n",
       "      <td>from_station_name</td>\n",
       "      <td>Nominal</td>\n",
       "      <td>Categorical-Nominal</td>\n",
       "    </tr>\n",
       "    <tr>\n",
       "      <th>7</th>\n",
       "      <td>to_station_id</td>\n",
       "      <td>Continuous</td>\n",
       "      <td>Continuous</td>\n",
       "    </tr>\n",
       "    <tr>\n",
       "      <th>8</th>\n",
       "      <td>to_station_name</td>\n",
       "      <td>Nominal</td>\n",
       "      <td>Categorical-Nominal</td>\n",
       "    </tr>\n",
       "    <tr>\n",
       "      <th>9</th>\n",
       "      <td>usertype</td>\n",
       "      <td>Category-Binary</td>\n",
       "      <td>Binary</td>\n",
       "    </tr>\n",
       "    <tr>\n",
       "      <th>10</th>\n",
       "      <td>gender</td>\n",
       "      <td>Category-Binary</td>\n",
       "      <td>Binary</td>\n",
       "    </tr>\n",
       "    <tr>\n",
       "      <th>11</th>\n",
       "      <td>birthyear</td>\n",
       "      <td>Continuous</td>\n",
       "      <td>Continuous</td>\n",
       "    </tr>\n",
       "  </tbody>\n",
       "</table>\n",
       "</div>"
      ],
      "text/plain": [
       "              Feature  BaseFeatureType  AnalysisFeatureType\n",
       "0             trip_id          Ordinal   Continuous-Ordinal\n",
       "1          start_time          Nominal  Categorical-Nominal\n",
       "2            end_time          Nominal  Categorical-Nominal\n",
       "3              bikeid       Continuous           Continuous\n",
       "4        tripduration          Nominal  Categorical-Nominal\n",
       "5     from_station_id       Continuous           Continuous\n",
       "6   from_station_name          Nominal  Categorical-Nominal\n",
       "7       to_station_id       Continuous           Continuous\n",
       "8     to_station_name          Nominal  Categorical-Nominal\n",
       "9            usertype  Category-Binary               Binary\n",
       "10             gender  Category-Binary               Binary\n",
       "11          birthyear       Continuous           Continuous"
      ]
     },
     "execution_count": 12,
     "metadata": {},
     "output_type": "execute_result"
    }
   ],
   "source": [
    "#check the output\n",
    "featureType(df)"
   ]
  },
  {
   "cell_type": "markdown",
   "id": "d51001cd",
   "metadata": {},
   "source": [
    "#### Convert to appropriate Data Type"
   ]
  },
  {
   "cell_type": "code",
   "execution_count": 13,
   "id": "4c105889",
   "metadata": {},
   "outputs": [],
   "source": [
    "# Convert start_time and end_time to datetime objects\n",
    "df['start_time'] = pd.to_datetime(df['start_time'])\n",
    "df['end_time'] = pd.to_datetime(df['end_time'])\n",
    "df['start_day'] = df['start_time'].dt.hour.apply(lambda x: 'morning' if 5 <= x < 12 else ('afternoon' if 12 <= x < 17 else 'evening'))\n",
    "df['end_day'] = df['end_time'].dt.hour.apply(lambda x: 'morning' if 5 <= x < 12 else ('afternoon' if 12 <= x < 17 else 'evening'))\n",
    "\n",
    "\n",
    "# Change the data types and create a new column for time of the day\n",
    "df['bikeid'] = df['bikeid'].astype(str)\n",
    "df['tripduration'] = df['tripduration'].str.replace(',', '').astype(float)\n",
    "df['from_station_id'] = df['from_station_id'].astype(str)\n",
    "df['to_station_id'] = df['to_station_id'].astype(str)\n",
    "df['birthyear'] = pd.to_numeric(df['birthyear'], errors='coerce')\n",
    "\n",
    "# Calculate age based on the reference year (2022)\n",
    "ref_year = 2022\n",
    "df['age'] = ref_year - df['birthyear']"
   ]
  },
  {
   "cell_type": "code",
   "execution_count": 14,
   "id": "a3657835",
   "metadata": {},
   "outputs": [
    {
     "data": {
      "text/plain": [
       "trip_id                       int64\n",
       "start_time           datetime64[ns]\n",
       "end_time             datetime64[ns]\n",
       "bikeid                       object\n",
       "tripduration                float64\n",
       "from_station_id              object\n",
       "from_station_name            object\n",
       "to_station_id                object\n",
       "to_station_name              object\n",
       "usertype                     object\n",
       "gender                       object\n",
       "birthyear                   float64\n",
       "start_day                    object\n",
       "end_day                      object\n",
       "age                         float64\n",
       "dtype: object"
      ]
     },
     "execution_count": 14,
     "metadata": {},
     "output_type": "execute_result"
    }
   ],
   "source": [
    "df.dtypes"
   ]
  },
  {
   "cell_type": "markdown",
   "id": "8d2daa16",
   "metadata": {},
   "source": [
    "#### Concateneate \"from_station_id\" + \"to_station_id\" to have a category of movements pattern"
   ]
  },
  {
   "cell_type": "code",
   "execution_count": 15,
   "id": "832f9dfc",
   "metadata": {},
   "outputs": [],
   "source": [
    "# Concatenate the columns using str.cat()\n",
    "df['from-to'] = df['from_station_id'].str.cat(df['to_station_id'], sep='-')"
   ]
  },
  {
   "cell_type": "code",
   "execution_count": 17,
   "id": "002eadb2",
   "metadata": {},
   "outputs": [
    {
     "data": {
      "text/html": [
       "<div>\n",
       "<style scoped>\n",
       "    .dataframe tbody tr th:only-of-type {\n",
       "        vertical-align: middle;\n",
       "    }\n",
       "\n",
       "    .dataframe tbody tr th {\n",
       "        vertical-align: top;\n",
       "    }\n",
       "\n",
       "    .dataframe thead th {\n",
       "        text-align: right;\n",
       "    }\n",
       "</style>\n",
       "<table border=\"1\" class=\"dataframe\">\n",
       "  <thead>\n",
       "    <tr style=\"text-align: right;\">\n",
       "      <th></th>\n",
       "      <th>bikeid</th>\n",
       "      <th>start_time</th>\n",
       "      <th>start_day</th>\n",
       "      <th>from-to</th>\n",
       "      <th>age</th>\n",
       "      <th>gender</th>\n",
       "      <th>usertype</th>\n",
       "      <th>tripduration</th>\n",
       "    </tr>\n",
       "  </thead>\n",
       "  <tbody>\n",
       "    <tr>\n",
       "      <th>0</th>\n",
       "      <td>6251</td>\n",
       "      <td>2019-04-01 00:02:22</td>\n",
       "      <td>evening</td>\n",
       "      <td>81-56</td>\n",
       "      <td>47.0</td>\n",
       "      <td>Male</td>\n",
       "      <td>Subscriber</td>\n",
       "      <td>446.0</td>\n",
       "    </tr>\n",
       "    <tr>\n",
       "      <th>1</th>\n",
       "      <td>6226</td>\n",
       "      <td>2019-04-01 00:03:02</td>\n",
       "      <td>evening</td>\n",
       "      <td>317-59</td>\n",
       "      <td>38.0</td>\n",
       "      <td>Female</td>\n",
       "      <td>Subscriber</td>\n",
       "      <td>1048.0</td>\n",
       "    </tr>\n",
       "    <tr>\n",
       "      <th>2</th>\n",
       "      <td>5649</td>\n",
       "      <td>2019-04-01 00:11:07</td>\n",
       "      <td>evening</td>\n",
       "      <td>283-174</td>\n",
       "      <td>32.0</td>\n",
       "      <td>Male</td>\n",
       "      <td>Subscriber</td>\n",
       "      <td>252.0</td>\n",
       "    </tr>\n",
       "    <tr>\n",
       "      <th>3</th>\n",
       "      <td>4151</td>\n",
       "      <td>2019-04-01 00:13:01</td>\n",
       "      <td>evening</td>\n",
       "      <td>26-133</td>\n",
       "      <td>29.0</td>\n",
       "      <td>Male</td>\n",
       "      <td>Subscriber</td>\n",
       "      <td>357.0</td>\n",
       "    </tr>\n",
       "    <tr>\n",
       "      <th>4</th>\n",
       "      <td>3270</td>\n",
       "      <td>2019-04-01 00:19:26</td>\n",
       "      <td>evening</td>\n",
       "      <td>202-129</td>\n",
       "      <td>30.0</td>\n",
       "      <td>Male</td>\n",
       "      <td>Subscriber</td>\n",
       "      <td>1007.0</td>\n",
       "    </tr>\n",
       "    <tr>\n",
       "      <th>...</th>\n",
       "      <td>...</td>\n",
       "      <td>...</td>\n",
       "      <td>...</td>\n",
       "      <td>...</td>\n",
       "      <td>...</td>\n",
       "      <td>...</td>\n",
       "      <td>...</td>\n",
       "      <td>...</td>\n",
       "    </tr>\n",
       "    <tr>\n",
       "      <th>3452930</th>\n",
       "      <td>2196</td>\n",
       "      <td>2019-12-31 23:56:13</td>\n",
       "      <td>evening</td>\n",
       "      <td>112-225</td>\n",
       "      <td>41.0</td>\n",
       "      <td>Male</td>\n",
       "      <td>Subscriber</td>\n",
       "      <td>1172.0</td>\n",
       "    </tr>\n",
       "    <tr>\n",
       "      <th>3452931</th>\n",
       "      <td>4877</td>\n",
       "      <td>2019-12-31 23:56:34</td>\n",
       "      <td>evening</td>\n",
       "      <td>90-90</td>\n",
       "      <td>30.0</td>\n",
       "      <td>Male</td>\n",
       "      <td>Subscriber</td>\n",
       "      <td>1533.0</td>\n",
       "    </tr>\n",
       "    <tr>\n",
       "      <th>3452932</th>\n",
       "      <td>863</td>\n",
       "      <td>2019-12-31 23:57:05</td>\n",
       "      <td>evening</td>\n",
       "      <td>623-52</td>\n",
       "      <td>55.0</td>\n",
       "      <td>Male</td>\n",
       "      <td>Subscriber</td>\n",
       "      <td>520.0</td>\n",
       "    </tr>\n",
       "    <tr>\n",
       "      <th>3452933</th>\n",
       "      <td>2637</td>\n",
       "      <td>2019-12-31 23:57:11</td>\n",
       "      <td>evening</td>\n",
       "      <td>623-52</td>\n",
       "      <td>52.0</td>\n",
       "      <td>Female</td>\n",
       "      <td>Subscriber</td>\n",
       "      <td>514.0</td>\n",
       "    </tr>\n",
       "    <tr>\n",
       "      <th>3452934</th>\n",
       "      <td>5930</td>\n",
       "      <td>2019-12-31 23:57:17</td>\n",
       "      <td>evening</td>\n",
       "      <td>256-240</td>\n",
       "      <td>40.0</td>\n",
       "      <td>Male</td>\n",
       "      <td>Subscriber</td>\n",
       "      <td>120.0</td>\n",
       "    </tr>\n",
       "  </tbody>\n",
       "</table>\n",
       "<p>3452935 rows × 8 columns</p>\n",
       "</div>"
      ],
      "text/plain": [
       "        bikeid          start_time start_day  from-to   age  gender  \\\n",
       "0         6251 2019-04-01 00:02:22   evening    81-56  47.0    Male   \n",
       "1         6226 2019-04-01 00:03:02   evening   317-59  38.0  Female   \n",
       "2         5649 2019-04-01 00:11:07   evening  283-174  32.0    Male   \n",
       "3         4151 2019-04-01 00:13:01   evening   26-133  29.0    Male   \n",
       "4         3270 2019-04-01 00:19:26   evening  202-129  30.0    Male   \n",
       "...        ...                 ...       ...      ...   ...     ...   \n",
       "3452930   2196 2019-12-31 23:56:13   evening  112-225  41.0    Male   \n",
       "3452931   4877 2019-12-31 23:56:34   evening    90-90  30.0    Male   \n",
       "3452932    863 2019-12-31 23:57:05   evening   623-52  55.0    Male   \n",
       "3452933   2637 2019-12-31 23:57:11   evening   623-52  52.0  Female   \n",
       "3452934   5930 2019-12-31 23:57:17   evening  256-240  40.0    Male   \n",
       "\n",
       "           usertype  tripduration  \n",
       "0        Subscriber         446.0  \n",
       "1        Subscriber        1048.0  \n",
       "2        Subscriber         252.0  \n",
       "3        Subscriber         357.0  \n",
       "4        Subscriber        1007.0  \n",
       "...             ...           ...  \n",
       "3452930  Subscriber        1172.0  \n",
       "3452931  Subscriber        1533.0  \n",
       "3452932  Subscriber         520.0  \n",
       "3452933  Subscriber         514.0  \n",
       "3452934  Subscriber         120.0  \n",
       "\n",
       "[3452935 rows x 8 columns]"
      ]
     },
     "execution_count": 17,
     "metadata": {},
     "output_type": "execute_result"
    }
   ],
   "source": [
    "data = df[[\"bikeid\",'start_time',\"start_day\",\"from-to\",\"age\",\"gender\",\"usertype\",\"tripduration\"]]\n",
    "data"
   ]
  },
  {
   "cell_type": "code",
   "execution_count": 18,
   "id": "6b600015",
   "metadata": {},
   "outputs": [
    {
     "data": {
      "text/plain": [
       "bikeid                  object\n",
       "start_time      datetime64[ns]\n",
       "start_day               object\n",
       "from-to                 object\n",
       "age                    float64\n",
       "gender                  object\n",
       "usertype                object\n",
       "tripduration           float64\n",
       "dtype: object"
      ]
     },
     "execution_count": 18,
     "metadata": {},
     "output_type": "execute_result"
    }
   ],
   "source": [
    "data.dtypes"
   ]
  },
  {
   "cell_type": "code",
   "execution_count": null,
   "id": "e7a15e2e",
   "metadata": {},
   "outputs": [],
   "source": [
    "#Check the data type\n",
    "featureType(data)"
   ]
  },
  {
   "cell_type": "code",
   "execution_count": null,
   "id": "7d9448c7",
   "metadata": {},
   "outputs": [],
   "source": []
  },
  {
   "cell_type": "markdown",
   "id": "cc9f9768",
   "metadata": {},
   "source": [
    "#### Save the file as CSV"
   ]
  },
  {
   "cell_type": "code",
   "execution_count": 19,
   "id": "425d0d51",
   "metadata": {},
   "outputs": [],
   "source": [
    "data.to_csv(\"data.csv\", index=False)"
   ]
  },
  {
   "cell_type": "code",
   "execution_count": 20,
   "id": "c86fb667",
   "metadata": {},
   "outputs": [],
   "source": [
    "df = pd.read_csv('data.csv')"
   ]
  },
  {
   "cell_type": "code",
   "execution_count": 21,
   "id": "8d6e954d",
   "metadata": {},
   "outputs": [
    {
     "data": {
      "text/html": [
       "<div>\n",
       "<style scoped>\n",
       "    .dataframe tbody tr th:only-of-type {\n",
       "        vertical-align: middle;\n",
       "    }\n",
       "\n",
       "    .dataframe tbody tr th {\n",
       "        vertical-align: top;\n",
       "    }\n",
       "\n",
       "    .dataframe thead th {\n",
       "        text-align: right;\n",
       "    }\n",
       "</style>\n",
       "<table border=\"1\" class=\"dataframe\">\n",
       "  <thead>\n",
       "    <tr style=\"text-align: right;\">\n",
       "      <th></th>\n",
       "      <th>bikeid</th>\n",
       "      <th>start_time</th>\n",
       "      <th>start_day</th>\n",
       "      <th>from-to</th>\n",
       "      <th>age</th>\n",
       "      <th>gender</th>\n",
       "      <th>usertype</th>\n",
       "      <th>tripduration</th>\n",
       "    </tr>\n",
       "  </thead>\n",
       "  <tbody>\n",
       "    <tr>\n",
       "      <th>0</th>\n",
       "      <td>6251</td>\n",
       "      <td>2019-04-01 00:02:22</td>\n",
       "      <td>evening</td>\n",
       "      <td>81-56</td>\n",
       "      <td>47.0</td>\n",
       "      <td>Male</td>\n",
       "      <td>Subscriber</td>\n",
       "      <td>446.0</td>\n",
       "    </tr>\n",
       "    <tr>\n",
       "      <th>1</th>\n",
       "      <td>6226</td>\n",
       "      <td>2019-04-01 00:03:02</td>\n",
       "      <td>evening</td>\n",
       "      <td>317-59</td>\n",
       "      <td>38.0</td>\n",
       "      <td>Female</td>\n",
       "      <td>Subscriber</td>\n",
       "      <td>1048.0</td>\n",
       "    </tr>\n",
       "    <tr>\n",
       "      <th>2</th>\n",
       "      <td>5649</td>\n",
       "      <td>2019-04-01 00:11:07</td>\n",
       "      <td>evening</td>\n",
       "      <td>283-174</td>\n",
       "      <td>32.0</td>\n",
       "      <td>Male</td>\n",
       "      <td>Subscriber</td>\n",
       "      <td>252.0</td>\n",
       "    </tr>\n",
       "    <tr>\n",
       "      <th>3</th>\n",
       "      <td>4151</td>\n",
       "      <td>2019-04-01 00:13:01</td>\n",
       "      <td>evening</td>\n",
       "      <td>26-133</td>\n",
       "      <td>29.0</td>\n",
       "      <td>Male</td>\n",
       "      <td>Subscriber</td>\n",
       "      <td>357.0</td>\n",
       "    </tr>\n",
       "    <tr>\n",
       "      <th>4</th>\n",
       "      <td>3270</td>\n",
       "      <td>2019-04-01 00:19:26</td>\n",
       "      <td>evening</td>\n",
       "      <td>202-129</td>\n",
       "      <td>30.0</td>\n",
       "      <td>Male</td>\n",
       "      <td>Subscriber</td>\n",
       "      <td>1007.0</td>\n",
       "    </tr>\n",
       "  </tbody>\n",
       "</table>\n",
       "</div>"
      ],
      "text/plain": [
       "   bikeid           start_time start_day  from-to   age  gender    usertype  \\\n",
       "0    6251  2019-04-01 00:02:22   evening    81-56  47.0    Male  Subscriber   \n",
       "1    6226  2019-04-01 00:03:02   evening   317-59  38.0  Female  Subscriber   \n",
       "2    5649  2019-04-01 00:11:07   evening  283-174  32.0    Male  Subscriber   \n",
       "3    4151  2019-04-01 00:13:01   evening   26-133  29.0    Male  Subscriber   \n",
       "4    3270  2019-04-01 00:19:26   evening  202-129  30.0    Male  Subscriber   \n",
       "\n",
       "   tripduration  \n",
       "0         446.0  \n",
       "1        1048.0  \n",
       "2         252.0  \n",
       "3         357.0  \n",
       "4        1007.0  "
      ]
     },
     "execution_count": 21,
     "metadata": {},
     "output_type": "execute_result"
    }
   ],
   "source": [
    "df.head()"
   ]
  },
  {
   "cell_type": "markdown",
   "id": "03d86afa",
   "metadata": {},
   "source": [
    "#### Fix NaN\n",
    "##### from the unique value function we see \"Gender\", and \"age\" having NaN"
   ]
  },
  {
   "cell_type": "code",
   "execution_count": 22,
   "id": "f24f439e",
   "metadata": {},
   "outputs": [],
   "source": [
    "df.dropna(inplace=True)"
   ]
  },
  {
   "cell_type": "markdown",
   "id": "3af9e679",
   "metadata": {},
   "source": [
    "#### Descriptive Statistics"
   ]
  },
  {
   "cell_type": "code",
   "execution_count": 32,
   "id": "664b9a6f",
   "metadata": {},
   "outputs": [],
   "source": [
    "# Perform descriptive statistics\n",
    "statistics = df.describe()"
   ]
  },
  {
   "cell_type": "code",
   "execution_count": 33,
   "id": "3169d8c1",
   "metadata": {},
   "outputs": [
    {
     "data": {
      "text/html": [
       "<div>\n",
       "<style scoped>\n",
       "    .dataframe tbody tr th:only-of-type {\n",
       "        vertical-align: middle;\n",
       "    }\n",
       "\n",
       "    .dataframe tbody tr th {\n",
       "        vertical-align: top;\n",
       "    }\n",
       "\n",
       "    .dataframe thead th {\n",
       "        text-align: right;\n",
       "    }\n",
       "</style>\n",
       "<table border=\"1\" class=\"dataframe\">\n",
       "  <thead>\n",
       "    <tr style=\"text-align: right;\">\n",
       "      <th></th>\n",
       "      <th>bikeid</th>\n",
       "      <th>age</th>\n",
       "      <th>tripduration</th>\n",
       "    </tr>\n",
       "  </thead>\n",
       "  <tbody>\n",
       "    <tr>\n",
       "      <th>count</th>\n",
       "      <td>2.913439e+06</td>\n",
       "      <td>2.913439e+06</td>\n",
       "      <td>2.913439e+06</td>\n",
       "    </tr>\n",
       "    <tr>\n",
       "      <th>mean</th>\n",
       "      <td>3.385024e+03</td>\n",
       "      <td>3.763273e+01</td>\n",
       "      <td>1.096405e+03</td>\n",
       "    </tr>\n",
       "    <tr>\n",
       "      <th>std</th>\n",
       "      <td>1.902927e+03</td>\n",
       "      <td>1.077751e+01</td>\n",
       "      <td>2.099208e+04</td>\n",
       "    </tr>\n",
       "    <tr>\n",
       "      <th>min</th>\n",
       "      <td>1.000000e+00</td>\n",
       "      <td>8.000000e+00</td>\n",
       "      <td>6.100000e+01</td>\n",
       "    </tr>\n",
       "    <tr>\n",
       "      <th>25%</th>\n",
       "      <td>1.732000e+03</td>\n",
       "      <td>3.000000e+01</td>\n",
       "      <td>3.900000e+02</td>\n",
       "    </tr>\n",
       "    <tr>\n",
       "      <th>50%</th>\n",
       "      <td>3.460000e+03</td>\n",
       "      <td>3.400000e+01</td>\n",
       "      <td>6.500000e+02</td>\n",
       "    </tr>\n",
       "    <tr>\n",
       "      <th>75%</th>\n",
       "      <td>5.051000e+03</td>\n",
       "      <td>4.200000e+01</td>\n",
       "      <td>1.109000e+03</td>\n",
       "    </tr>\n",
       "    <tr>\n",
       "      <th>max</th>\n",
       "      <td>6.946000e+03</td>\n",
       "      <td>2.630000e+02</td>\n",
       "      <td>9.056633e+06</td>\n",
       "    </tr>\n",
       "  </tbody>\n",
       "</table>\n",
       "</div>"
      ],
      "text/plain": [
       "             bikeid           age  tripduration\n",
       "count  2.913439e+06  2.913439e+06  2.913439e+06\n",
       "mean   3.385024e+03  3.763273e+01  1.096405e+03\n",
       "std    1.902927e+03  1.077751e+01  2.099208e+04\n",
       "min    1.000000e+00  8.000000e+00  6.100000e+01\n",
       "25%    1.732000e+03  3.000000e+01  3.900000e+02\n",
       "50%    3.460000e+03  3.400000e+01  6.500000e+02\n",
       "75%    5.051000e+03  4.200000e+01  1.109000e+03\n",
       "max    6.946000e+03  2.630000e+02  9.056633e+06"
      ]
     },
     "execution_count": 33,
     "metadata": {},
     "output_type": "execute_result"
    }
   ],
   "source": [
    "statistics"
   ]
  },
  {
   "cell_type": "raw",
   "id": "f490350c",
   "metadata": {},
   "source": [
    "This summary shows that some customer may have registered with the wrong age. Below we check for customers more than 100 years old . We have 817 of that scenario."
   ]
  },
  {
   "cell_type": "code",
   "execution_count": 38,
   "id": "121a1aee",
   "metadata": {},
   "outputs": [
    {
     "data": {
      "text/html": [
       "<div>\n",
       "<style scoped>\n",
       "    .dataframe tbody tr th:only-of-type {\n",
       "        vertical-align: middle;\n",
       "    }\n",
       "\n",
       "    .dataframe tbody tr th {\n",
       "        vertical-align: top;\n",
       "    }\n",
       "\n",
       "    .dataframe thead th {\n",
       "        text-align: right;\n",
       "    }\n",
       "</style>\n",
       "<table border=\"1\" class=\"dataframe\">\n",
       "  <thead>\n",
       "    <tr style=\"text-align: right;\">\n",
       "      <th></th>\n",
       "      <th>bikeid</th>\n",
       "      <th>start_time</th>\n",
       "      <th>start_day</th>\n",
       "      <th>from-to</th>\n",
       "      <th>age</th>\n",
       "      <th>gender</th>\n",
       "      <th>usertype</th>\n",
       "      <th>tripduration</th>\n",
       "    </tr>\n",
       "  </thead>\n",
       "  <tbody>\n",
       "    <tr>\n",
       "      <th>2309</th>\n",
       "      <td>858</td>\n",
       "      <td>2019-04-01 10:06:12</td>\n",
       "      <td>morning</td>\n",
       "      <td>322-328</td>\n",
       "      <td>101.0</td>\n",
       "      <td>Male</td>\n",
       "      <td>Subscriber</td>\n",
       "      <td>544.0</td>\n",
       "    </tr>\n",
       "    <tr>\n",
       "      <th>2365</th>\n",
       "      <td>412</td>\n",
       "      <td>2019-04-01 10:28:33</td>\n",
       "      <td>morning</td>\n",
       "      <td>213-91</td>\n",
       "      <td>122.0</td>\n",
       "      <td>Male</td>\n",
       "      <td>Subscriber</td>\n",
       "      <td>957.0</td>\n",
       "    </tr>\n",
       "    <tr>\n",
       "      <th>3523</th>\n",
       "      <td>858</td>\n",
       "      <td>2019-04-01 15:19:14</td>\n",
       "      <td>afternoon</td>\n",
       "      <td>328-322</td>\n",
       "      <td>101.0</td>\n",
       "      <td>Male</td>\n",
       "      <td>Subscriber</td>\n",
       "      <td>367.0</td>\n",
       "    </tr>\n",
       "    <tr>\n",
       "      <th>6162</th>\n",
       "      <td>5985</td>\n",
       "      <td>2019-04-01 18:14:00</td>\n",
       "      <td>evening</td>\n",
       "      <td>40-198</td>\n",
       "      <td>104.0</td>\n",
       "      <td>Male</td>\n",
       "      <td>Subscriber</td>\n",
       "      <td>382.0</td>\n",
       "    </tr>\n",
       "    <tr>\n",
       "      <th>6317</th>\n",
       "      <td>2086</td>\n",
       "      <td>2019-04-01 18:24:38</td>\n",
       "      <td>evening</td>\n",
       "      <td>77-158</td>\n",
       "      <td>122.0</td>\n",
       "      <td>Male</td>\n",
       "      <td>Subscriber</td>\n",
       "      <td>957.0</td>\n",
       "    </tr>\n",
       "    <tr>\n",
       "      <th>...</th>\n",
       "      <td>...</td>\n",
       "      <td>...</td>\n",
       "      <td>...</td>\n",
       "      <td>...</td>\n",
       "      <td>...</td>\n",
       "      <td>...</td>\n",
       "      <td>...</td>\n",
       "      <td>...</td>\n",
       "    </tr>\n",
       "    <tr>\n",
       "      <th>3441920</th>\n",
       "      <td>5741</td>\n",
       "      <td>2019-12-28 12:55:50</td>\n",
       "      <td>afternoon</td>\n",
       "      <td>213-130</td>\n",
       "      <td>123.0</td>\n",
       "      <td>Male</td>\n",
       "      <td>Subscriber</td>\n",
       "      <td>219.0</td>\n",
       "    </tr>\n",
       "    <tr>\n",
       "      <th>3443689</th>\n",
       "      <td>1937</td>\n",
       "      <td>2019-12-29 08:49:54</td>\n",
       "      <td>morning</td>\n",
       "      <td>329-313</td>\n",
       "      <td>122.0</td>\n",
       "      <td>Male</td>\n",
       "      <td>Subscriber</td>\n",
       "      <td>252.0</td>\n",
       "    </tr>\n",
       "    <tr>\n",
       "      <th>3448129</th>\n",
       "      <td>3272</td>\n",
       "      <td>2019-12-30 08:42:11</td>\n",
       "      <td>morning</td>\n",
       "      <td>329-313</td>\n",
       "      <td>122.0</td>\n",
       "      <td>Male</td>\n",
       "      <td>Subscriber</td>\n",
       "      <td>326.0</td>\n",
       "    </tr>\n",
       "    <tr>\n",
       "      <th>3448888</th>\n",
       "      <td>6132</td>\n",
       "      <td>2019-12-30 12:54:24</td>\n",
       "      <td>afternoon</td>\n",
       "      <td>51-91</td>\n",
       "      <td>118.0</td>\n",
       "      <td>Male</td>\n",
       "      <td>Subscriber</td>\n",
       "      <td>297.0</td>\n",
       "    </tr>\n",
       "    <tr>\n",
       "      <th>3451583</th>\n",
       "      <td>2905</td>\n",
       "      <td>2019-12-31 12:35:03</td>\n",
       "      <td>afternoon</td>\n",
       "      <td>84-91</td>\n",
       "      <td>118.0</td>\n",
       "      <td>Male</td>\n",
       "      <td>Subscriber</td>\n",
       "      <td>510.0</td>\n",
       "    </tr>\n",
       "  </tbody>\n",
       "</table>\n",
       "<p>817 rows × 8 columns</p>\n",
       "</div>"
      ],
      "text/plain": [
       "         bikeid           start_time  start_day  from-to    age gender  \\\n",
       "2309        858  2019-04-01 10:06:12    morning  322-328  101.0   Male   \n",
       "2365        412  2019-04-01 10:28:33    morning   213-91  122.0   Male   \n",
       "3523        858  2019-04-01 15:19:14  afternoon  328-322  101.0   Male   \n",
       "6162       5985  2019-04-01 18:14:00    evening   40-198  104.0   Male   \n",
       "6317       2086  2019-04-01 18:24:38    evening   77-158  122.0   Male   \n",
       "...         ...                  ...        ...      ...    ...    ...   \n",
       "3441920    5741  2019-12-28 12:55:50  afternoon  213-130  123.0   Male   \n",
       "3443689    1937  2019-12-29 08:49:54    morning  329-313  122.0   Male   \n",
       "3448129    3272  2019-12-30 08:42:11    morning  329-313  122.0   Male   \n",
       "3448888    6132  2019-12-30 12:54:24  afternoon    51-91  118.0   Male   \n",
       "3451583    2905  2019-12-31 12:35:03  afternoon    84-91  118.0   Male   \n",
       "\n",
       "           usertype  tripduration  \n",
       "2309     Subscriber         544.0  \n",
       "2365     Subscriber         957.0  \n",
       "3523     Subscriber         367.0  \n",
       "6162     Subscriber         382.0  \n",
       "6317     Subscriber         957.0  \n",
       "...             ...           ...  \n",
       "3441920  Subscriber         219.0  \n",
       "3443689  Subscriber         252.0  \n",
       "3448129  Subscriber         326.0  \n",
       "3448888  Subscriber         297.0  \n",
       "3451583  Subscriber         510.0  \n",
       "\n",
       "[817 rows x 8 columns]"
      ]
     },
     "execution_count": 38,
     "metadata": {},
     "output_type": "execute_result"
    }
   ],
   "source": [
    "df[df.age>100]"
   ]
  },
  {
   "cell_type": "markdown",
   "id": "a82e9d49",
   "metadata": {},
   "source": [
    "### Visualization"
   ]
  },
  {
   "cell_type": "raw",
   "id": "2937e4e2",
   "metadata": {},
   "source": [
    "We create scatter plots, box plots, and histograms to visualize different aspects of the DataFrame -df. Here's how I used the matplotlib and seaborn libraries for visualization:"
   ]
  },
  {
   "cell_type": "markdown",
   "id": "96fdd41e",
   "metadata": {},
   "source": [
    "#### Scatter plot "
   ]
  },
  {
   "cell_type": "code",
   "execution_count": 66,
   "id": "9eee34fb",
   "metadata": {},
   "outputs": [
    {
     "data": {
      "image/png": "[encoded data removed]",
      "text/plain": [
       "<Figure size 600x400 with 1 Axes>"
      ]
     },
     "metadata": {},
     "output_type": "display_data"
    }
   ],
   "source": [
    "# Scatter plot (bikeid vs. tripduration)\n",
    "plt.figure(figsize=(6, 4))\n",
    "sns.scatterplot(x='age', y='tripduration', data=df)\n",
    "plt.title('Scatter Plot: Age vs. Trip Duration')\n",
    "plt.show()\n"
   ]
  },
  {
   "cell_type": "markdown",
   "id": "aa53e12b",
   "metadata": {},
   "source": [
    "#### Box plot"
   ]
  },
  {
   "cell_type": "code",
   "execution_count": 67,
   "id": "1af51e03",
   "metadata": {},
   "outputs": [
    {
     "data": {
      "image/png": "[encoded data removed]",
      "text/plain": [
       "<Figure size 800x300 with 1 Axes>"
      ]
     },
     "metadata": {},
     "output_type": "display_data"
    }
   ],
   "source": [
    "# Box plot (age)\n",
    "plt.figure(figsize=(8, 3))\n",
    "sns.boxplot(x='age', data=df)\n",
    "plt.title('Box Plot: Age Distribution')\n",
    "plt.show()"
   ]
  },
  {
   "cell_type": "code",
   "execution_count": 68,
   "id": "d786c40f",
   "metadata": {},
   "outputs": [
    {
     "data": {
      "image/png": "[encoded data removed]",
      "text/plain": [
       "<Figure size 500x400 with 1 Axes>"
      ]
     },
     "metadata": {},
     "output_type": "display_data"
    }
   ],
   "source": [
    "# Box plot of age by usertype\n",
    "plt.figure(figsize=(5, 4))\n",
    "sns.boxplot(x='usertype', y='age', data=df)\n",
    "plt.title('Box Plot: Age by User Type')\n",
    "plt.xlabel('User Type')\n",
    "plt.ylabel('Age')\n",
    "plt.show()"
   ]
  },
  {
   "cell_type": "code",
   "execution_count": 69,
   "id": "40b17055",
   "metadata": {
    "scrolled": true
   },
   "outputs": [
    {
     "data": {
      "image/png": "[encoded data removed]",
      "text/plain": [
       "<Figure size 500x400 with 1 Axes>"
      ]
     },
     "metadata": {},
     "output_type": "display_data"
    }
   ],
   "source": [
    "# Box plot of tripduration by usertype\n",
    "plt.figure(figsize=(5, 4))\n",
    "sns.boxplot(x='usertype', y='tripduration', data=df)\n",
    "plt.title('Box Plot: Trip Duration by User Type')\n",
    "plt.xlabel('User Type')\n",
    "plt.ylabel('Trip Duration')\n",
    "plt.show()"
   ]
  },
  {
   "cell_type": "code",
   "execution_count": null,
   "id": "49ddeb3b",
   "metadata": {},
   "outputs": [],
   "source": []
  },
  {
   "cell_type": "code",
   "execution_count": 70,
   "id": "0246b66a",
   "metadata": {},
   "outputs": [
    {
     "data": {
      "image/png": "[encoded data removed]",
      "text/plain": [
       "<Figure size 500x400 with 1 Axes>"
      ]
     },
     "metadata": {},
     "output_type": "display_data"
    }
   ],
   "source": [
    "# Create a bar chart of usertype\n",
    "plt.figure(figsize=(5, 4))\n",
    "sns.countplot(x='usertype', data=df, palette='Set2')\n",
    "plt.title('User Type Distribution')\n",
    "plt.xlabel('User Type')\n",
    "plt.ylabel('Count')\n",
    "plt.show()"
   ]
  },
  {
   "cell_type": "code",
   "execution_count": 71,
   "id": "9921f0bd",
   "metadata": {},
   "outputs": [
    {
     "data": {
      "image/png": "[encoded data removed]",
      "text/plain": [
       "<Figure size 500x400 with 1 Axes>"
      ]
     },
     "metadata": {},
     "output_type": "display_data"
    }
   ],
   "source": [
    "# Create a bar chart of gender\n",
    "plt.figure(figsize=(5, 4))\n",
    "sns.countplot(x='gender', data=df, palette='Set2')\n",
    "plt.title('Gender Distribution')\n",
    "plt.xlabel('User Type')\n",
    "plt.ylabel('Count')\n",
    "plt.show()"
   ]
  },
  {
   "cell_type": "code",
   "execution_count": 72,
   "id": "e645241e",
   "metadata": {},
   "outputs": [
    {
     "data": {
      "image/png": "[encoded data removed]",
      "text/plain": [
       "<Figure size 600x500 with 1 Axes>"
      ]
     },
     "metadata": {},
     "output_type": "display_data"
    }
   ],
   "source": [
    "# Box plot of tripduration by gender\n",
    "plt.figure(figsize=(6, 5))\n",
    "sns.boxplot(x='gender', y='tripduration', data=df)\n",
    "plt.title('Box Plot: Trip Duration by Gender')\n",
    "plt.xlabel('User Type')\n",
    "plt.ylabel('Trip Duration')\n",
    "plt.show()"
   ]
  },
  {
   "cell_type": "markdown",
   "id": "e24cef53",
   "metadata": {},
   "source": [
    "#### Histogram"
   ]
  },
  {
   "cell_type": "code",
   "execution_count": null,
   "id": "72a29a08",
   "metadata": {},
   "outputs": [],
   "source": []
  },
  {
   "cell_type": "code",
   "execution_count": 57,
   "id": "01e418d5",
   "metadata": {},
   "outputs": [
    {
     "data": {
      "image/png": "[encoded data removed]",
      "text/plain": [
       "<Figure size 800x500 with 1 Axes>"
      ]
     },
     "metadata": {},
     "output_type": "display_data"
    }
   ],
   "source": [
    "# Histogram (tripduration)\n",
    "\n",
    "plt.figure(figsize=(5, 4))\n",
    "sns.histplot(data=df, x='age', bins=20, kde=True)\n",
    "plt.title('Histogram: Age Distribution')\n",
    "plt.show()"
   ]
  },
  {
   "cell_type": "markdown",
   "id": "8caf8053",
   "metadata": {},
   "source": [
    "### Segmentation Analysis"
   ]
  },
  {
   "cell_type": "raw",
   "id": "82169fbb",
   "metadata": {},
   "source": [
    "Segmentation analysis by usertype, gender, and age group may provide valuable insights into the behavior of different groups of users. To perform this analysis, we create segments based on these variables and then analyze the data within each segment. "
   ]
  },
  {
   "cell_type": "code",
   "execution_count": 73,
   "id": "e00b6091",
   "metadata": {},
   "outputs": [],
   "source": [
    "# Define age groups\n",
    "bins = [18, 30, 40, 50, 60, 100]\n",
    "labels = ['18-29', '30-39', '40-49', '50-59', '60+']\n",
    "df['age_group'] = pd.cut(df['age'], bins=bins, labels=labels)"
   ]
  },
  {
   "cell_type": "code",
   "execution_count": 74,
   "id": "e06f92ac",
   "metadata": {},
   "outputs": [],
   "source": [
    "# Segmentation analysis by usertype, gender, and age group\n",
    "segmented_data = df.groupby(['usertype', 'gender', 'age_group']).agg(\n",
    "    {'bikeid': 'count', 'tripduration': 'mean'}\n",
    ").reset_index()\n"
   ]
  },
  {
   "cell_type": "code",
   "execution_count": 76,
   "id": "57a42b22",
   "metadata": {},
   "outputs": [],
   "source": [
    "# Rename columns for clarity\n",
    "segmented_data.rename(columns={'bikeid': 'count', 'tripduration': 'avg_tripduration'}, inplace=True)\n"
   ]
  },
  {
   "cell_type": "code",
   "execution_count": 77,
   "id": "f7d12526",
   "metadata": {},
   "outputs": [
    {
     "data": {
      "text/html": [
       "<div>\n",
       "<style scoped>\n",
       "    .dataframe tbody tr th:only-of-type {\n",
       "        vertical-align: middle;\n",
       "    }\n",
       "\n",
       "    .dataframe tbody tr th {\n",
       "        vertical-align: top;\n",
       "    }\n",
       "\n",
       "    .dataframe thead th {\n",
       "        text-align: right;\n",
       "    }\n",
       "</style>\n",
       "<table border=\"1\" class=\"dataframe\">\n",
       "  <thead>\n",
       "    <tr style=\"text-align: right;\">\n",
       "      <th></th>\n",
       "      <th>usertype</th>\n",
       "      <th>gender</th>\n",
       "      <th>age_group</th>\n",
       "      <th>count</th>\n",
       "      <th>avg_tripduration</th>\n",
       "    </tr>\n",
       "  </thead>\n",
       "  <tbody>\n",
       "    <tr>\n",
       "      <th>0</th>\n",
       "      <td>Customer</td>\n",
       "      <td>Female</td>\n",
       "      <td>18-29</td>\n",
       "      <td>64870</td>\n",
       "      <td>2957.123339</td>\n",
       "    </tr>\n",
       "    <tr>\n",
       "      <th>1</th>\n",
       "      <td>Customer</td>\n",
       "      <td>Female</td>\n",
       "      <td>30-39</td>\n",
       "      <td>44034</td>\n",
       "      <td>3333.041763</td>\n",
       "    </tr>\n",
       "    <tr>\n",
       "      <th>2</th>\n",
       "      <td>Customer</td>\n",
       "      <td>Female</td>\n",
       "      <td>40-49</td>\n",
       "      <td>10608</td>\n",
       "      <td>3634.532805</td>\n",
       "    </tr>\n",
       "    <tr>\n",
       "      <th>3</th>\n",
       "      <td>Customer</td>\n",
       "      <td>Female</td>\n",
       "      <td>50-59</td>\n",
       "      <td>7744</td>\n",
       "      <td>3153.481405</td>\n",
       "    </tr>\n",
       "    <tr>\n",
       "      <th>4</th>\n",
       "      <td>Customer</td>\n",
       "      <td>Female</td>\n",
       "      <td>60+</td>\n",
       "      <td>2301</td>\n",
       "      <td>3977.488483</td>\n",
       "    </tr>\n",
       "    <tr>\n",
       "      <th>5</th>\n",
       "      <td>Customer</td>\n",
       "      <td>Male</td>\n",
       "      <td>18-29</td>\n",
       "      <td>89225</td>\n",
       "      <td>2634.169908</td>\n",
       "    </tr>\n",
       "    <tr>\n",
       "      <th>6</th>\n",
       "      <td>Customer</td>\n",
       "      <td>Male</td>\n",
       "      <td>30-39</td>\n",
       "      <td>76026</td>\n",
       "      <td>2692.882935</td>\n",
       "    </tr>\n",
       "    <tr>\n",
       "      <th>7</th>\n",
       "      <td>Customer</td>\n",
       "      <td>Male</td>\n",
       "      <td>40-49</td>\n",
       "      <td>24090</td>\n",
       "      <td>2644.698713</td>\n",
       "    </tr>\n",
       "    <tr>\n",
       "      <th>8</th>\n",
       "      <td>Customer</td>\n",
       "      <td>Male</td>\n",
       "      <td>50-59</td>\n",
       "      <td>14642</td>\n",
       "      <td>3069.169512</td>\n",
       "    </tr>\n",
       "    <tr>\n",
       "      <th>9</th>\n",
       "      <td>Customer</td>\n",
       "      <td>Male</td>\n",
       "      <td>60+</td>\n",
       "      <td>4677</td>\n",
       "      <td>3240.135343</td>\n",
       "    </tr>\n",
       "    <tr>\n",
       "      <th>10</th>\n",
       "      <td>Subscriber</td>\n",
       "      <td>Female</td>\n",
       "      <td>18-29</td>\n",
       "      <td>202453</td>\n",
       "      <td>997.923444</td>\n",
       "    </tr>\n",
       "    <tr>\n",
       "      <th>11</th>\n",
       "      <td>Subscriber</td>\n",
       "      <td>Female</td>\n",
       "      <td>30-39</td>\n",
       "      <td>290583</td>\n",
       "      <td>954.545084</td>\n",
       "    </tr>\n",
       "    <tr>\n",
       "      <th>12</th>\n",
       "      <td>Subscriber</td>\n",
       "      <td>Female</td>\n",
       "      <td>40-49</td>\n",
       "      <td>80598</td>\n",
       "      <td>1017.688305</td>\n",
       "    </tr>\n",
       "    <tr>\n",
       "      <th>13</th>\n",
       "      <td>Subscriber</td>\n",
       "      <td>Female</td>\n",
       "      <td>50-59</td>\n",
       "      <td>58250</td>\n",
       "      <td>952.846747</td>\n",
       "    </tr>\n",
       "    <tr>\n",
       "      <th>14</th>\n",
       "      <td>Subscriber</td>\n",
       "      <td>Female</td>\n",
       "      <td>60+</td>\n",
       "      <td>29596</td>\n",
       "      <td>914.578963</td>\n",
       "    </tr>\n",
       "    <tr>\n",
       "      <th>15</th>\n",
       "      <td>Subscriber</td>\n",
       "      <td>Male</td>\n",
       "      <td>18-29</td>\n",
       "      <td>487598</td>\n",
       "      <td>861.512141</td>\n",
       "    </tr>\n",
       "    <tr>\n",
       "      <th>16</th>\n",
       "      <td>Subscriber</td>\n",
       "      <td>Male</td>\n",
       "      <td>30-39</td>\n",
       "      <td>810622</td>\n",
       "      <td>817.436435</td>\n",
       "    </tr>\n",
       "    <tr>\n",
       "      <th>17</th>\n",
       "      <td>Subscriber</td>\n",
       "      <td>Male</td>\n",
       "      <td>40-49</td>\n",
       "      <td>310551</td>\n",
       "      <td>798.693577</td>\n",
       "    </tr>\n",
       "    <tr>\n",
       "      <th>18</th>\n",
       "      <td>Subscriber</td>\n",
       "      <td>Male</td>\n",
       "      <td>50-59</td>\n",
       "      <td>198760</td>\n",
       "      <td>780.698108</td>\n",
       "    </tr>\n",
       "    <tr>\n",
       "      <th>19</th>\n",
       "      <td>Subscriber</td>\n",
       "      <td>Male</td>\n",
       "      <td>60+</td>\n",
       "      <td>105389</td>\n",
       "      <td>822.017440</td>\n",
       "    </tr>\n",
       "  </tbody>\n",
       "</table>\n",
       "</div>"
      ],
      "text/plain": [
       "      usertype  gender age_group   count  avg_tripduration\n",
       "0     Customer  Female     18-29   64870       2957.123339\n",
       "1     Customer  Female     30-39   44034       3333.041763\n",
       "2     Customer  Female     40-49   10608       3634.532805\n",
       "3     Customer  Female     50-59    7744       3153.481405\n",
       "4     Customer  Female       60+    2301       3977.488483\n",
       "5     Customer    Male     18-29   89225       2634.169908\n",
       "6     Customer    Male     30-39   76026       2692.882935\n",
       "7     Customer    Male     40-49   24090       2644.698713\n",
       "8     Customer    Male     50-59   14642       3069.169512\n",
       "9     Customer    Male       60+    4677       3240.135343\n",
       "10  Subscriber  Female     18-29  202453        997.923444\n",
       "11  Subscriber  Female     30-39  290583        954.545084\n",
       "12  Subscriber  Female     40-49   80598       1017.688305\n",
       "13  Subscriber  Female     50-59   58250        952.846747\n",
       "14  Subscriber  Female       60+   29596        914.578963\n",
       "15  Subscriber    Male     18-29  487598        861.512141\n",
       "16  Subscriber    Male     30-39  810622        817.436435\n",
       "17  Subscriber    Male     40-49  310551        798.693577\n",
       "18  Subscriber    Male     50-59  198760        780.698108\n",
       "19  Subscriber    Male       60+  105389        822.017440"
      ]
     },
     "execution_count": 77,
     "metadata": {},
     "output_type": "execute_result"
    }
   ],
   "source": [
    "segmented_data"
   ]
  },
  {
   "cell_type": "code",
   "execution_count": 92,
   "id": "0e114fa4",
   "metadata": {},
   "outputs": [
    {
     "data": {
      "image/png": "[encoded data removed]",
      "text/plain": [
       "<Figure size 500x400 with 1 Axes>"
      ]
     },
     "metadata": {},
     "output_type": "display_data"
    }
   ],
   "source": [
    "# Create a bar chart to show the count of users in each segment\n",
    "plt.figure(figsize=(5, 4))\n",
    "sns.barplot(x='usertype', y='count', hue='gender', data=segmented_data)\n",
    "plt.title('Count of Users by User Type and Gender')\n",
    "plt.xlabel('User Type')\n",
    "plt.ylabel('Count')\n",
    "plt.show()"
   ]
  },
  {
   "cell_type": "code",
   "execution_count": 93,
   "id": "b44a64fd",
   "metadata": {},
   "outputs": [
    {
     "data": {
      "image/png": "[encoded data removed]",
      "text/plain": [
       "<Figure size 400x400 with 1 Axes>"
      ]
     },
     "metadata": {},
     "output_type": "display_data"
    }
   ],
   "source": [
    "# Create a box plot to show the average trip duration in each segment\n",
    "plt.figure(figsize=(4, 4))\n",
    "sns.boxplot(x='usertype', y='avg_tripduration', data=segmented_data)\n",
    "plt.title('Average Trip Duration by User Type')\n",
    "plt.xlabel('User Type')\n",
    "plt.ylabel('Average Trip Duration')\n",
    "plt.show()"
   ]
  },
  {
   "cell_type": "code",
   "execution_count": 94,
   "id": "511e935e",
   "metadata": {},
   "outputs": [
    {
     "data": {
      "image/png": "[encoded data removed]",
      "text/plain": [
       "<Figure size 400x400 with 1 Axes>"
      ]
     },
     "metadata": {},
     "output_type": "display_data"
    }
   ],
   "source": [
    "# Create a box plot to show the average trip duration in each segment\n",
    "plt.figure(figsize=(4, 4))\n",
    "sns.boxplot(x='gender', y='avg_tripduration', data=segmented_data)\n",
    "plt.title('Average Trip Duration by Gender')\n",
    "plt.xlabel('Gender')\n",
    "plt.ylabel('Average Trip Duration')\n",
    "plt.show()"
   ]
  },
  {
   "cell_type": "code",
   "execution_count": 82,
   "id": "6c3718b2",
   "metadata": {
    "scrolled": true
   },
   "outputs": [
    {
     "name": "stdout",
     "output_type": "stream",
     "text": [
      "  Age Group    Count\n",
      "0     30-39  1221265\n",
      "1     18-29   844146\n",
      "2     40-49   425847\n",
      "3     50-59   279396\n",
      "4       60+   141963\n"
     ]
    }
   ],
   "source": [
    "# Calculate the total count of users in each age group\n",
    "age_group_counts  = df['age_group'].value_counts().reset_index()\n",
    "age_group_counts.columns = ['Age Group', 'Count']\n",
    "print(age_group_counts)"
   ]
  },
  {
   "cell_type": "code",
   "execution_count": 84,
   "id": "bfa9bc6c",
   "metadata": {
    "scrolled": true
   },
   "outputs": [
    {
     "data": {
      "image/png": "[encoded data removed]",
      "text/plain": [
       "<Figure size 1000x600 with 1 Axes>"
      ]
     },
     "metadata": {},
     "output_type": "display_data"
    }
   ],
   "source": [
    "# Create a bar chart to show the total count of users in each age group\n",
    "plt.figure(figsize=(10, 6))\n",
    "plt.bar(age_group_counts['Age Group'], age_group_counts['Count'])\n",
    "plt.title('Total Count of Users in Each Age Group')\n",
    "plt.xlabel('Age Group')\n",
    "plt.ylabel('Count')\n",
    "plt.show()"
   ]
  },
  {
   "cell_type": "code",
   "execution_count": 95,
   "id": "e0337af2",
   "metadata": {},
   "outputs": [
    {
     "data": {
      "image/png": "[encoded data removed]",
      "text/plain": [
       "<Figure size 600x400 with 1 Axes>"
      ]
     },
     "metadata": {},
     "output_type": "display_data"
    }
   ],
   "source": [
    "# Create a box plot to show the average trip duration in each segment\n",
    "plt.figure(figsize=(6, 4))\n",
    "sns.boxplot(x='age_group', y='avg_tripduration', data=segmented_data)\n",
    "plt.title('Average Trip Duration by Age Group')\n",
    "plt.xlabel('Age Group')\n",
    "plt.ylabel('Average Trip Duration')\n",
    "plt.show()"
   ]
  }
 ],
 "metadata": {
  "kernelspec": {
   "display_name": "Python 3 (ipykernel)",
   "language": "python",
   "name": "python3"
  },
  "language_info": {
   "codemirror_mode": {
    "name": "ipython",
    "version": 3
   },
   "file_extension": ".py",
   "mimetype": "text/x-python",
   "name": "python",
   "nbconvert_exporter": "python",
   "pygments_lexer": "ipython3",
   "version": "3.10.9"
  }
 },
 "nbformat": 4,
 "nbformat_minor": 5
}
